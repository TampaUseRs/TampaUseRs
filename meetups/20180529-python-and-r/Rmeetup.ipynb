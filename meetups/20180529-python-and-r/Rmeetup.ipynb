{
 "cells": [
  {
   "cell_type": "markdown",
   "metadata": {},
   "source": [
    "# RPy2"
   ]
  },
  {
   "cell_type": "code",
   "execution_count": null,
   "metadata": {
    "collapsed": false
   },
   "outputs": [],
   "source": [
    "import rpy2.rinterface\n",
    "rpy2.rinterface.set_initoptions(('rpy2', '--verbose', '--no-save'))\n",
    "\n",
    "from rpy2.robjects.packages import importr\n",
    "base = importr('base')\n",
    "print(base._libPaths())\n",
    "\n",
    "import rpy2.robjects as ro\n",
    "ro.r('''.libPaths('C:/Users/Mahdi/Anaconda2/Lib/R/library')''')"
   ]
  },
  {
   "cell_type": "code",
   "execution_count": null,
   "metadata": {
    "collapsed": false
   },
   "outputs": [],
   "source": [
    "ro.r('x=c()')\n",
    "ro.r('x[1]=22')\n",
    "ro.r('x[2]=44')\n",
    "print(ro.r('x'))\n",
    "type(ro.r('x'))"
   ]
  },
  {
   "cell_type": "markdown",
   "metadata": {},
   "source": [
    "## ggplot2"
   ]
  },
  {
   "cell_type": "code",
   "execution_count": null,
   "metadata": {
    "collapsed": false
   },
   "outputs": [],
   "source": [
    "from numpy import *\n",
    "import scipy as sp\n",
    "from pandas import *\n",
    "import rpy2.robjects as ro\n",
    "import pandas.rpy.common as com\n",
    "%matplotlib inline\n",
    "import math, datetime\n",
    "import rpy2.robjects.lib.ggplot2 as ggplot2\n",
    "import rpy2.robjects as ro\n",
    "from rpy2.robjects.packages import importr\n",
    "base = importr('base')\n",
    "datasets = importr('datasets')\n",
    "\n",
    "\n",
    "\n",
    "\n",
    "\n",
    "grdevices = importr('grDevices')\n",
    "grdevices.png(file=\"Rpy2ggplot2.png\", width=512, height=512)\n",
    "#mtcars = datasets.data.fetch('mtcars')['mtcars']\n",
    "mtcars=com.load_data('mtcars')\n",
    "mtcars=com.convert_to_r_dataframe(mtcars)\n",
    "pp = ggplot2.ggplot(mtcars) + \\\n",
    "     ggplot2.aes_string(x='wt', y='mpg', col='factor(cyl)') + \\\n",
    "     ggplot2.geom_point() + \\\n",
    "     ggplot2.geom_smooth(ggplot2.aes_string(group = 'cyl'),method = 'lm')\n",
    "pp.plot()\n",
    "grdevices.dev_off()"
   ]
  },
  {
   "cell_type": "markdown",
   "metadata": {},
   "source": [
    "##  lattice "
   ]
  },
  {
   "cell_type": "code",
   "execution_count": null,
   "metadata": {
    "collapsed": true
   },
   "outputs": [],
   "source": [
    "from rpy2 import robjects\n",
    "from rpy2.robjects import Formula, Environment\n",
    "from rpy2.robjects.vectors import IntVector, FloatVector\n",
    "from rpy2.robjects.lib import grid\n",
    "from rpy2.robjects.packages import importr\n",
    "\n",
    "# The R 'print' function\n",
    "rprint = robjects.globalenv.get(\"print\")\n",
    "stats = importr('stats')\n",
    "grdevices = importr('grDevices')\n",
    "base = importr('base')\n",
    "datasets = importr('datasets')"
   ]
  },
  {
   "cell_type": "code",
   "execution_count": null,
   "metadata": {
    "collapsed": false
   },
   "outputs": [],
   "source": [
    "lattice = importr('lattice')"
   ]
  },
  {
   "cell_type": "code",
   "execution_count": null,
   "metadata": {
    "collapsed": true
   },
   "outputs": [],
   "source": [
    "xyplot = lattice.xyplot"
   ]
  },
  {
   "cell_type": "code",
   "execution_count": null,
   "metadata": {
    "collapsed": false
   },
   "outputs": [],
   "source": [
    "datasets = importr('datasets')\n",
    "mtcars = datasets.__rdata__.fetch('mtcars')['mtcars']\n",
    "formula = Formula('mpg ~ wt')\n",
    "formula.getenvironment()['mpg'] = mtcars.rx2('mpg')\n",
    "formula.getenvironment()['wt'] = mtcars.rx2('wt')\n",
    "\n",
    "# p = lattice.xyplot(formula)\n",
    "# rprint(p)"
   ]
  },
  {
   "cell_type": "code",
   "execution_count": null,
   "metadata": {
    "collapsed": false
   },
   "outputs": [],
   "source": [
    "p = lattice.xyplot(formula, groups = mtcars.rx2('cyl'))\n",
    "rprint(p)"
   ]
  },
  {
   "cell_type": "code",
   "execution_count": null,
   "metadata": {
    "collapsed": false
   },
   "outputs": [],
   "source": [
    "tmpenv = datasets.__rdata__.fetch(\"volcano\")\n",
    "volcano = tmpenv[\"volcano\"]\n",
    "\n",
    "p = lattice.wireframe(volcano, shade = True,\n",
    "                      zlab = \"\",\n",
    "                      aspect = FloatVector((61.0/87, 0.4)),\n",
    "                      light_source = IntVector((10,0,10)))\n",
    "rprint(p)"
   ]
  },
  {
   "cell_type": "code",
   "execution_count": null,
   "metadata": {
    "collapsed": false
   },
   "outputs": [],
   "source": [
    "reshape2 = importr('reshape2')\n",
    "dataf = reshape2.melt(volcano)\n",
    "dataf = dataf.cbind(ct = lattice.equal_count(dataf.rx2(\"value\"), number=3, overlap=1/4))\n",
    "p = lattice.wireframe(Formula('value ~ Var1 * Var2 | ct'), \n",
    "                      data = dataf, shade = True,\n",
    "                      aspect = FloatVector((61.0/87, 0.4)),\n",
    "                      light_source = IntVector((10,0,10)))\n",
    "rprint(p, nrow = 1)"
   ]
  },
  {
   "cell_type": "markdown",
   "metadata": {
    "collapsed": true
   },
   "source": [
    "# pyRserve"
   ]
  },
  {
   "cell_type": "code",
   "execution_count": null,
   "metadata": {
    "collapsed": false
   },
   "outputs": [],
   "source": [
    "import pyRserve\n",
    "conn = pyRserve.connect(host='localhost')\n",
    "conn"
   ]
  },
  {
   "cell_type": "markdown",
   "metadata": {},
   "source": [
    "## simple operations"
   ]
  },
  {
   "cell_type": "code",
   "execution_count": null,
   "metadata": {
    "collapsed": false
   },
   "outputs": [],
   "source": [
    "conn.close()\n",
    "conn"
   ]
  },
  {
   "cell_type": "code",
   "execution_count": null,
   "metadata": {
    "collapsed": false
   },
   "outputs": [],
   "source": [
    "conn.connect()\n",
    "conn"
   ]
  },
  {
   "cell_type": "code",
   "execution_count": null,
   "metadata": {
    "collapsed": false
   },
   "outputs": [],
   "source": [
    "conn.isClosed"
   ]
  },
  {
   "cell_type": "code",
   "execution_count": null,
   "metadata": {
    "collapsed": false
   },
   "outputs": [],
   "source": [
    "conn.eval('3 + 5')"
   ]
  },
  {
   "cell_type": "code",
   "execution_count": null,
   "metadata": {
    "collapsed": false
   },
   "outputs": [],
   "source": [
    "conn.eval('3 + 5', atomicArray=True)"
   ]
  },
  {
   "cell_type": "code",
   "execution_count": null,
   "metadata": {
    "collapsed": true
   },
   "outputs": [],
   "source": [
    "conn.voidEval('doubleit <- function(x) { x*2 }')"
   ]
  },
  {
   "cell_type": "code",
   "execution_count": null,
   "metadata": {
    "collapsed": false
   },
   "outputs": [],
   "source": [
    "conn.eval('doubleit(2)')"
   ]
  },
  {
   "cell_type": "code",
   "execution_count": null,
   "metadata": {
    "collapsed": true
   },
   "outputs": [],
   "source": [
    "my_r_script = '''\n",
    "squareit <- function(x)\n",
    "  { x**2 }\n",
    "squareit(4)\n",
    "'''"
   ]
  },
  {
   "cell_type": "code",
   "execution_count": null,
   "metadata": {
    "collapsed": false
   },
   "outputs": [],
   "source": [
    "conn.eval(my_r_script)"
   ]
  },
  {
   "cell_type": "code",
   "execution_count": null,
   "metadata": {
    "collapsed": false
   },
   "outputs": [],
   "source": [
    " res = conn.eval('t.test(c(1,2,3,1),c(1,6,7,8))')"
   ]
  },
  {
   "cell_type": "code",
   "execution_count": null,
   "metadata": {
    "collapsed": false
   },
   "outputs": [],
   "source": [
    "res"
   ]
  },
  {
   "cell_type": "code",
   "execution_count": null,
   "metadata": {
    "collapsed": false
   },
   "outputs": [],
   "source": [
    "import numpy\n",
    "conn.r.sapply(numpy.array([-1,2,3]), conn.r.abs)"
   ]
  },
  {
   "cell_type": "code",
   "execution_count": null,
   "metadata": {
    "collapsed": true
   },
   "outputs": [],
   "source": [
    "conn.close()"
   ]
  },
  {
   "cell_type": "code",
   "execution_count": null,
   "metadata": {
    "collapsed": false
   },
   "outputs": [],
   "source": [
    "conn.r.sapply(numpy.array([-1,2,3]), conn.r.abs)"
   ]
  },
  {
   "cell_type": "code",
   "execution_count": null,
   "metadata": {
    "collapsed": true
   },
   "outputs": [],
   "source": [
    "conn.connect()"
   ]
  },
  {
   "cell_type": "code",
   "execution_count": null,
   "metadata": {
    "collapsed": false
   },
   "outputs": [],
   "source": [
    "conn.voidEval('double <- function(x) { x*2 }')\n",
    "conn.r.sapply(numpy.array([1, 2, 3]), conn.r.double)"
   ]
  },
  {
   "cell_type": "code",
   "execution_count": null,
   "metadata": {
    "collapsed": false
   },
   "outputs": [],
   "source": [
    "def double(v): return v*2\n",
    "conn.r.sapply(array([1, 2, 3]), double)"
   ]
  },
  {
   "cell_type": "markdown",
   "metadata": {},
   "source": [
    "## Script"
   ]
  },
  {
   "cell_type": "code",
   "execution_count": null,
   "metadata": {
    "collapsed": false
   },
   "outputs": [],
   "source": [
    "#import pyRserve\n",
    "import pyRserve\n",
    "\n",
    "#open pyRserve connection\n",
    "conn = pyRserve.connect(host='localhost', port=6311)\n",
    "\n",
    "#load your rscript into a variable (you can even write functions)\n",
    "test_r_script = '''\n",
    "mileage<-c(0,4,8,12,16,20,24,28,32)\n",
    "groove<-c(394.33,329.5,291,255.17,229.33,204.83,179,163.83,150.33)\n",
    "Tread<-data.frame(mileage,groove)\n",
    "plot(Tread, pch=16 , main = \"Scatter plot of Mileage vs Groove Depth\")\n",
    "                '''\n",
    "\n",
    "#do the connection eval\n",
    "conn.eval(test_r_script)\n",
    "# closing the pyRserve connection\n",
    "#conn.close()"
   ]
  }
 ],
 "metadata": {
  "kernelspec": {
   "display_name": "Python 2",
   "language": "python",
   "name": "python2"
  },
  "language_info": {
   "codemirror_mode": {
    "name": "ipython",
    "version": 2
   },
   "file_extension": ".py",
   "mimetype": "text/x-python",
   "name": "python",
   "nbconvert_exporter": "python",
   "pygments_lexer": "ipython2",
   "version": "2.7.13"
  }
 },
 "nbformat": 4,
 "nbformat_minor": 0
}
